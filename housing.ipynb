{
 "cells": [
  {
   "cell_type": "markdown",
   "metadata": {},
   "source": [
    "## Import & Load Data"
   ]
  },
  {
   "cell_type": "code",
   "execution_count": null,
   "metadata": {
    "_cell_guid": "b1076dfc-b9ad-4769-8c92-a6c4dae69d19",
    "_uuid": "8f2839f25d086af736a60e9eeb907d3b93b6e0e5",
    "execution": {
     "iopub.execute_input": "2025-10-24T01:09:27.713853Z",
     "iopub.status.busy": "2025-10-24T01:09:27.713550Z",
     "iopub.status.idle": "2025-10-24T01:09:27.737210Z",
     "shell.execute_reply": "2025-10-24T01:09:27.735887Z",
     "shell.execute_reply.started": "2025-10-24T01:09:27.713829Z"
    }
   },
   "outputs": [],
   "source": [
    "#halooooooooooo\n",
    "\n",
    "import pandas as pd\n",
    "import seaborn as sns\n",
    "import matplotlib.pyplot as plt\n",
    "import numpy as np\n",
    "import warnings\n",
    "warnings.filterwarnings('ignore')\n",
    "from scipy.stats import skew\n",
    "\n",
    "df = pd.read_csv(\"train.csv\")\n",
    "dft = pd.read_csv(\"test.csv\")"
   ]
  },
  {
   "cell_type": "markdown",
   "metadata": {},
   "source": [
    "## EDA pre-Feature Engineering"
   ]
  },
  {
   "cell_type": "code",
   "execution_count": null,
   "metadata": {
    "execution": {
     "iopub.execute_input": "2025-10-24T00:17:32.808964Z",
     "iopub.status.busy": "2025-10-24T00:17:32.808669Z",
     "iopub.status.idle": "2025-10-24T00:17:32.973677Z",
     "shell.execute_reply": "2025-10-24T00:17:32.972711Z",
     "shell.execute_reply.started": "2025-10-24T00:17:32.808943Z"
    },
    "jupyter": {
     "source_hidden": true
    }
   },
   "outputs": [],
   "source": [
    "#Pengaturan Tampilan Data\n",
    "pd.set_option('display.max_columns', None)"
   ]
  },
  {
   "cell_type": "code",
   "execution_count": 53,
   "metadata": {
    "jupyter": {
     "source_hidden": true
    }
   },
   "outputs": [
    {
     "name": "stdout",
     "output_type": "stream",
     "text": [
      "\n",
      "[DF]\n",
      "Total baris        : 1460\n",
      "Missing di 'MiscVal' : 0 (0.00%)\n",
      "\n",
      "[DFT]\n",
      "Total baris        : 1459\n",
      "Missing di 'MiscVal' : 0 (0.00%)\n",
      "\n",
      "Done cek missing untuk kolom: MiscVal\n"
     ]
    }
   ],
   "source": [
    "#Cek Data yang Kosong\n",
    "def missing(df) :\n",
    "    missing = df.isnull().sum()\n",
    "    percent = (df.isnull().sum()/len(df))*100\n",
    "    missing_table = pd.DataFrame({\n",
    "        'MISSING':missing,\n",
    "        '%':percent\n",
    "    })\n",
    "    missing_table = missing_table[missing_table['MISSING'] > 0]\n",
    "    missing_table['%'] = missing_table['%'].apply(lambda x: f\"{x:.2f}%\")\n",
    "    missing_table = missing_table.sort_values(by='%', ascending=False)\n",
    "    print(missing_table.round(2))\n",
    "    print(\"\\n\")\n",
    "    cols_with_missing = missing_table.index.tolist()\n",
    "    print(\"Kolom yang punya missing values:\", cols_with_missing)\n",
    "def miss(col):\n",
    "    for name, data in [(\"df\", df), (\"dft\", dft)]:\n",
    "        if col not in data.columns:\n",
    "            print(f\"Kolom '{col}' gak ada di {name}.\")\n",
    "            continue\n",
    "\n",
    "        total = len(data)\n",
    "        missing_count = data[col].isnull().sum()\n",
    "        missing_percent = (missing_count / total) * 100\n",
    "\n",
    "        print(f\"\\n[{name.upper()}]\")\n",
    "        print(f\"Total baris        : {total}\")\n",
    "        print(f\"Missing di '{col}' : {missing_count} ({missing_percent:.2f}%)\")\n",
    "\n",
    "    print(\"\\nDone cek missing untuk kolom:\", col)\n",
    "\n",
    "miss('MiscVal')"
   ]
  },
  {
   "cell_type": "code",
   "execution_count": 23,
   "metadata": {},
   "outputs": [
    {
     "data": {
      "application/vnd.microsoft.datawrangler.viewer.v0+json": {
       "columns": [
        {
         "name": "index",
         "rawType": "object",
         "type": "string"
        },
        {
         "name": "Utilities",
         "rawType": "object",
         "type": "unknown"
        }
       ],
       "ref": "ee1d03d5-f33a-4bf4-8161-ffc62720d634",
       "rows": [
        [
         "count",
         "1460"
        ],
        [
         "unique",
         "2"
        ],
        [
         "top",
         "AllPub"
        ],
        [
         "freq",
         "1459"
        ]
       ],
       "shape": {
        "columns": 1,
        "rows": 4
       }
      },
      "text/plain": [
       "count       1460\n",
       "unique         2\n",
       "top       AllPub\n",
       "freq        1459\n",
       "Name: Utilities, dtype: object"
      ]
     },
     "execution_count": 23,
     "metadata": {},
     "output_type": "execute_result"
    }
   ],
   "source": [
    "df['Utilities'].describe()"
   ]
  },
  {
   "cell_type": "code",
   "execution_count": null,
   "metadata": {
    "jupyter": {
     "source_hidden": true
    }
   },
   "outputs": [],
   "source": [
    "#Reset Pengaturan Tampilan Data\n",
    "pd.reset_option('display.max_rows')"
   ]
  },
  {
   "cell_type": "code",
   "execution_count": null,
   "metadata": {
    "jupyter": {
     "source_hidden": true
    }
   },
   "outputs": [],
   "source": [
    "#Visualisasi Outlier (LotFrontage, MasVnrArea)\n",
    "sns.boxplot(y='LotFrontage', data=df)\n",
    "plt.show()\n",
    "sns.boxplot(y='MasVnrArea', data=df)\n",
    "plt.show()"
   ]
  },
  {
   "cell_type": "code",
   "execution_count": null,
   "metadata": {},
   "outputs": [],
   "source": [
    "#Visualisasi Outlier (GrLivArea vs SalePrice)\n",
    "plt.figure(figsize=(10, 6))\n",
    "sns.scatterplot(x=df['GrLivArea'], y=df['SalePrice'])\n",
    "plt.xlabel('GrLivArea')\n",
    "plt.ylabel('SalePrice')\n",
    "plt.title('Deteksi Outlier GrLivArea vs SalePrice')\n",
    "plt.show()"
   ]
  },
  {
   "cell_type": "markdown",
   "metadata": {},
   "source": [
    "## Hapus Outlier"
   ]
  },
  {
   "cell_type": "code",
   "execution_count": null,
   "metadata": {},
   "outputs": [],
   "source": [
    "\n",
    "outlier_indices = df[(df['GrLivArea'] > 4000) & (df['SalePrice'] < 300000)].index\n",
    "print(f\"Dropping {len(outlier_indices)} outlier(s)...\")\n",
    "df = df.drop(outlier_indices)\n",
    "df = df.reset_index(drop=True)"
   ]
  },
  {
   "cell_type": "markdown",
   "metadata": {},
   "source": [
    "## Fill n Encode like a smartass"
   ]
  },
  {
   "cell_type": "code",
   "execution_count": null,
   "metadata": {
    "execution": {
     "iopub.execute_input": "2025-10-24T01:13:25.454643Z",
     "iopub.status.busy": "2025-10-24T01:13:25.454342Z",
     "iopub.status.idle": "2025-10-24T01:13:25.485614Z",
     "shell.execute_reply": "2025-10-24T01:13:25.484271Z",
     "shell.execute_reply.started": "2025-10-24T01:13:25.454622Z"
    }
   },
   "outputs": [],
   "source": [
    "import pandas as pd\n",
    "import seaborn as sns\n",
    "import matplotlib.pyplot as plt\n",
    "import numpy as np\n",
    "import warnings\n",
    "warnings.filterwarnings('ignore')\n",
    "from scipy.stats import skew\n",
    "\n",
    "df = pd.read_csv(\"train.csv\")\n",
    "dft = pd.read_csv(\"test.csv\")\n",
    "\n",
    "# -----MSSubClass udah di getdummies-----\n",
    "\n",
    "#MSZoning\n",
    "df['MSZoning'] = df['MSZoning'].fillna('RL') #selebihnya di getdummies\n",
    "\n",
    "#---LotFrontage\n",
    "#isi data yang kosong dengan median neighborhood\n",
    "LotFrontage_median = df.groupby('Neighborhood')['LotFrontage'].median()\n",
    "df['LotFrontage'] = df['LotFrontage'].fillna(df['Neighborhood'].map(LotFrontage_median))\n",
    "dft['LotFrontage'] = dft['LotFrontage'].fillna(df['Neighborhood'].map(LotFrontage_median))\n",
    "#---LotFrontage\n",
    "\n",
    "#LotArea dibiarkan apa adanya\n",
    "\n",
    "# -----Street udah di getdummies-----\n",
    "\n",
    "#---Alley\n",
    "df['Alley'] = df['Alley'].fillna('NoAlley')\n",
    "dft['Alley'] = dft['Alley'].fillna('NoAlley')\n",
    "#selebihnya di getdummies\n",
    "#---Alley\n",
    "\n",
    "lotshape_fin_map = {\n",
    "    'IR3' : 0,\n",
    "    'IR2' : 1,\n",
    "    'IR1' : 2,\n",
    "    'Reg' : 3,\n",
    "    'NA'  : 0\n",
    "}\n",
    "df['LotShape'] = df['LotShape'].map(lotshape_fin_map)\n",
    "dft['LotShape'] = dft['LotShape'].map(lotshape_fin_map)\n",
    "\n",
    "# -----LandContour udah di getdummies-----\n",
    "\n",
    "#---Utilities\n",
    "df.drop('Utilities', axis=1, inplace=True)\n",
    "#didrop karena 99% AllPub\n",
    "\n",
    "# -----LotConfig sudah di getdummies\n",
    "\n",
    "#---LandSlope\n",
    "landslope_fin_map = {\n",
    "    'Gtl' : 2,\n",
    "    'Mod' : 1,\n",
    "    'Sev' : 0\n",
    "}\n",
    "df['LandSlope'] = df['LandSlope'].map(landslope_fin_map)\n",
    "dft['LandSlope'] = dft['LandSlope'].map(landslope_fin_map)\n",
    "\n",
    "# -----Neighborhood udah di getdummies-----\n",
    "# -----Condition1 udah di getdummies-----\n",
    "# -----Condition2 udah di getdummies-----\n",
    "# -----BldgType udah di getdummies-----\n",
    "# -----HouseStyle udah di getdummies-----\n",
    "# -----OverallQual dibiarkan apa adanya-----\n",
    "# -----OverallCond dibiarkan apa adanya-----\n",
    "# -----YearBuilt dibiarkan apa adanya-----\n",
    "# -----YearRemodAdd dibiarkan apa adanya-----\n",
    "# -----RoofStyle masuk ke getdummies-----\n",
    "# -----RoofMatl masuk ke getdummies-----\n",
    "\n",
    "#---Exterior1st dan 2nd\n",
    "dft['Exterior1st'] = dft['Exterior1st'].fillna(df['Exterior1st'].mode()[0])\n",
    "dft['Exterior2nd'] = dft['Exterior2nd'].fillna(df['Exterior2nd'].mode()[0])\n",
    "#selebihnya di getdummies\n",
    "\n",
    "#---MasVnrType\n",
    "df['MasVnrType'] = df['MasVnrType'].fillna('None')\n",
    "dft['MasVnrType'] = dft['MasVnrType'].fillna('None')\n",
    "#selebihnya di getdummies\n",
    "\n",
    "#---MasVnrArea\n",
    "df['MasVnrArea'] = df['MasVnrArea'].fillna(0)\n",
    "dft['MasVnrArea'] = dft['MasVnrArea'].fillna(0)\n",
    "#selebihnya dibiarkan apa adanya\n",
    "\n",
    "# -----ExterQual sudah di QC-----\n",
    "# -----ExterCond sudah di QC-----\n",
    "# -----Foundation di getdummies-----\n",
    "# -----BsmtQual sudah di QC-----\n",
    "# -----BsmtCond sudah di QC-----\n",
    "\n",
    "#---BsmtExposure\n",
    "bsmt_exp_map = {\n",
    "    'Gd': 4,\n",
    "    'Av': 3,\n",
    "    'Mn': 2,\n",
    "    'No': 1,\n",
    "    'NA': 0\n",
    "}\n",
    "df['BsmtExposure'] = df['BsmtExposure'].fillna('NA')\n",
    "dft['BsmtExposure'] = dft['BsmtExposure'].fillna('NA')\n",
    "df['BsmtExposure'] = df['BsmtExposure'].map(bsmt_exp_map)\n",
    "dft['BsmtExposure'] = dft['BsmtExposure'].map(bsmt_exp_map)\n",
    "\n",
    "#---BsmtFinSF2\n",
    "df['BsmtFinSF2'] = df['BsmtFinSF2'].fillna(0)\n",
    "dft['BsmtFinSF2'] = dft['BsmtFinSF2'].fillna(0)\n",
    "#selebihnya dibiarkan\n",
    "\n",
    "#---BsmtFinType1\n",
    "bsmt_fin_map = {\n",
    "    'GLQ': 6,\n",
    "    'ALQ': 5,\n",
    "    'BLQ': 4,\n",
    "    'Rec': 3,\n",
    "    'LwQ': 2,\n",
    "    'Unf': 1,\n",
    "    'NA': 0\n",
    "}\n",
    "df['BsmtFinType1'] = df['BsmtFinType1'].fillna('NA')\n",
    "dft['BsmtFinType1'] = dft['BsmtFinType1'].fillna('NA')\n",
    "\n",
    "df['BsmtFinType1'] = df['BsmtFinType1'].map(bsmt_fin_map)\n",
    "dft['BsmtFinType1'] = dft['BsmtFinType1'].map(bsmt_fin_map)\n",
    "\n",
    "#---BsmtFinSF1\n",
    "dft['BsmtFinSF1'] = dft['BsmtFinSF1'].fillna(0)\n",
    "#selebihnya dibiarkan\n",
    "\n",
    "#---BsmtFinType2\n",
    "df['BsmtFinType2'] = df['BsmtFinType2'].fillna('NA')\n",
    "dft['BsmtFinType2'] = dft['BsmtFinType2'].fillna('NA')\n",
    "df['BsmtFinType2'] = df['BsmtFinType2'].map(bsmt_fin_map)\n",
    "dft['BsmtFinType2'] = dft['BsmtFinType2'].map(bsmt_fin_map)\n",
    "\n",
    "#---BsmtFinSF2\n",
    "dft['BsmtFinSF1'] = dft['BsmtFinSF1'].fillna(0)\n",
    "#selebihnya dibiarkan\n",
    "\n",
    "#---BsmtUnfSF\n",
    "dft['BsmtUnfSF'] = dft['BsmtUnfSF'].fillna(0)\n",
    "\n",
    "#---TotalBsmtSF\n",
    "dft['TotalBsmtSF'] = dft['TotalBsmtSF'].fillna(0)\n",
    "\n",
    "# -----Heating sudah di getdummies-----\n",
    "# -----HeatingQC sudah di QC-----\n",
    "\n",
    "#---CentralAir\n",
    "df['CentralAir'] = df['CentralAir'].map({'Y': 1, 'N': 0})\n",
    "dft['CentralAir'] = dft['CentralAir'].map({'Y': 1, 'N': 0})\n",
    "\n",
    "electrical_map = {\n",
    "    'FuseP': 1,   # poor\n",
    "    'FuseF': 2,   # fair\n",
    "    'FuseA': 3,   # average\n",
    "    'Mix': 4,     # mixed\n",
    "    'SBrkr': 5   # standard breakers & Romex\n",
    "}\n",
    "df['Electrical'] = df['Electrical'].fillna('SBrkr')\n",
    "dft['Electrical'] = dft['Electrical'].fillna('SBrkr')\n",
    "df['Electrical'] = df['Electrical'].map(electrical_map)\n",
    "dft['Electrical'] = dft['Electrical'].map(electrical_map)\n",
    "\n",
    "#--- 1stFlrSF dibiarkan apa adanya\n",
    "#--- 2ndFlrSF dibiarkan apa adanya\n",
    "#--- LowQualFinSF dibiarkan apa adanya\n",
    "#--- GrLivArea dibiarkan apa adanya\n",
    "\n",
    "#---BsmtFullBath\n",
    "dft['BsmtFullBath'] = dft['BsmtFullBath'].fillna(0)\n",
    "\n",
    "#---BsmtHalfBath\n",
    "dft['BsmtHalfBath'] = dft['BsmtHalfBath'].fillna(0)\n",
    "\n",
    "#---FullBath dibiarkan apa adanya\n",
    "#---HalfBath dibiarkan apa adanya\n",
    "#---Bedroom dibiarkan apa adanya\n",
    "#---Kitchen dibiarkan apa adanya\n",
    "# -----KitchenQual udah di QS-----\n",
    "#---TotRmsAbvGrd dibiarkan apa adanya\n",
    "\n",
    "#---Functional\n",
    "functional_map = {\n",
    "    'Typ': 7,\n",
    "    'Min1': 6,\n",
    "    'Min2': 5,\n",
    "    'Mod': 4,\n",
    "    'Maj1': 3,\n",
    "    'Maj2': 2,\n",
    "    'Sev': 1,  \n",
    "    'Sal': 0\n",
    "}\n",
    "df['Functional'] = df['Functional'].fillna(df['Functional'].mode()[0])\n",
    "dft['Functional'] = dft['Functional'].fillna(df['Functional'].mode()[0])\n",
    "df['Functional'] = df['Functional'].map(functional_map)\n",
    "dft['Functional'] = dft['Functional'].map(functional_map)\n",
    "\n",
    "#---Fireplaces dibiarkan apa adanya\n",
    "# -----FireplaceQu udah di QS-----\n",
    "\n",
    "#---GarageType\n",
    "df['GarageType'] = df['GarageType'].fillna('NA')\n",
    "dft['GarageType'] = dft['GarageType'].fillna('NA')\n",
    "#selebihnya di getdummies\n",
    "\n",
    "#---GarageYrBlt\n",
    "df['GarageYrBlt'] = df['GarageYrBlt'].fillna(0)\n",
    "dft['GarageYrBlt'] = dft['GarageYrBlt'].fillna(0)\n",
    "\n",
    "#---GarageFinish\n",
    "garage_fin_map = {\n",
    "    'Fin': 3,\n",
    "    'RFn': 2,\n",
    "    'Unf': 1,\n",
    "    'NA': 0\n",
    "}\n",
    "df['GarageFinish'] = df['GarageFinish'].fillna('NA')\n",
    "dft['GarageFinish'] = dft['GarageFinish'].fillna('NA')\n",
    "\n",
    "df['GarageFinish'] = df['GarageFinish'].map(garage_fin_map)\n",
    "dft['GarageFinish'] = dft['GarageFinish'].map(garage_fin_map)\n",
    "\n",
    "#---GarageCars\n",
    "dft['GarageCars'] = dft['GarageCars'].fillna(0)\n",
    "\n",
    "#---GarageArea\n",
    "dft['GarageArea'] = dft['GarageArea'].fillna(0)\n",
    "\n",
    "# -----GarageQual udah di QS-----\n",
    "# -----GarageCond udah di QS-----\n",
    "\n",
    "#---PavedDrive\n",
    "paveddrive_map = {\n",
    "    'Y': 2,\n",
    "    'P': 1,\n",
    "    'N': 0\n",
    "}\n",
    "df['PavedDrive'] = df['PavedDrive'].map(paveddrive_map)\n",
    "dft['PavedDrive'] = dft['PavedDrive'].map(paveddrive_map)\n",
    "\n",
    "#---WoodDeckSF dibiarkan\n",
    "#---OpenPorchSF dibiarkan\n",
    "#---EnclosedPorch dibiarkan\n",
    "#---3SsnPorch dibiarkan\n",
    "#---ScreenPorch dibiarkan\n",
    "#---PoolArea dibiarkan\n",
    "\n",
    "# -----PoolQC udah di QS-----\n",
    "\n",
    "#---Fence\n",
    "fence_map = {\n",
    "    'GdPrv': 4,\n",
    "    'MnPrv': 3,\n",
    "    'GdWo': 2,\n",
    "    'MnWw': 1,\n",
    "    'NA': 0\n",
    "}\n",
    "df['Fence'] = df['Fence'].fillna('NA')\n",
    "dft['Fence'] = dft['Fence'].fillna('NA')\n",
    "df['Fence'] = df['Fence'].map(fence_map)\n",
    "dft['Fence'] = dft['Fence'].map(fence_map)\n",
    "\n",
    "\n",
    "\n",
    "#---MiscFeature\n",
    "df['MiscFeature'] = df['MiscFeature'].fillna('None')\n",
    "dft['MiscFeature'] = dft['MiscFeature'].fillna('None')\n",
    "#selebihnya di getdummies\n",
    "\n",
    "#---MiscVal dibiarkan\n",
    "\n",
    "#---MoSold\n",
    "df[\"MoSold\"] = df[\"MoSold\"].fillna(df[\"MoSold\"].mode()[0])\n",
    "\n",
    "#---YrSold\n",
    "df[\"YrSold\"] = df[\"YrSold\"].fillna(df[\"YrSold\"].mode()[0])\n",
    "\n",
    "#---SaleType\n",
    "df['SaleType'] = df['SaleType'].fillna(df['SaleType'].mode()[0])\n",
    "dft['SaleType'] = dft['SaleType'].fillna(df['SaleType'].mode()[0])\n",
    "#selebihnya di getdummies\n",
    "\n",
    "#---SaleCondition\n",
    "df['SaleCondition'] = df['SaleCondition'].fillna(df['SaleCondition'].mode()[0])\n",
    "dft['SaleCondition'] = dft['SaleCondition'].fillna(df['SaleCondition'].mode()[0])\n",
    "#selebihnya di getdummies\n",
    "\n",
    "# -------------------------QC\n",
    "qual_cond_map = {\n",
    "    'Ex': 5,\n",
    "    'Gd': 4,\n",
    "    'TA': 3,\n",
    "    'Fa': 2,\n",
    "    'Po': 1,\n",
    "    'NA': 0 \n",
    "}\n",
    "qual_cond_cols = [\n",
    "    'ExterQual', 'ExterCond', 'BsmtQual', 'BsmtCond', 'HeatingQC', \n",
    "    'KitchenQual', 'FireplaceQu', 'GarageQual', 'GarageCond', 'PoolQC'\n",
    "]\n",
    "for col in qual_cond_cols:\n",
    "    df[col] = df[col].fillna(\"NA\")\n",
    "    dft[col] = dft[col].fillna(\"NA\")\n",
    "for col in qual_cond_cols:\n",
    "    df[col] = df[col].map(qual_cond_map)\n",
    "    dft[col] = dft[col].map(qual_cond_map)\n",
    "#--------------------------QC\n",
    "\n",
    "#--------------------------getdummies\n",
    "getdummies_cols = ['MSSubClass','MSZoning','Alley','Street','LandContour',\n",
    "                   'LotConfig','Neighborhood','Condition1','Condition2',\n",
    "                   'BldgType','HouseStyle','RoofStyle','RoofMatl',\n",
    "                   'Exterior1st','Exterior2nd','MasVnrType','Foundation'\n",
    "                   ,'Heating','MiscFeature','SaleType','SaleCondition','GarageType']\n",
    "df[getdummies_cols] = df[getdummies_cols].astype(str)\n",
    "dft[getdummies_cols] = dft[getdummies_cols].astype(str)\n",
    "df = pd.get_dummies(df, columns=getdummies_cols, drop_first=True)\n",
    "dft = pd.get_dummies(dft, columns=getdummies_cols, drop_first=True)\n",
    "#--------------------------getdummies\n",
    "\n",
    "#done\n",
    "#alhamdulillah\n",
    "# real kejar tayang\n",
    "#iya anjer aowkoawko\n",
    "#up igs"
   ]
  },
  {
   "cell_type": "markdown",
   "metadata": {},
   "source": [
    "## EDA"
   ]
  },
  {
   "cell_type": "code",
   "execution_count": null,
   "metadata": {
    "collapsed": true,
    "execution": {
     "iopub.execute_input": "2025-10-23T23:51:24.133366Z",
     "iopub.status.busy": "2025-10-23T23:51:24.132873Z",
     "iopub.status.idle": "2025-10-23T23:51:28.438820Z",
     "shell.execute_reply": "2025-10-23T23:51:28.437346Z",
     "shell.execute_reply.started": "2025-10-23T23:51:24.133338Z"
    },
    "jupyter": {
     "outputs_hidden": true,
     "source_hidden": true
    }
   },
   "outputs": [],
   "source": [
    "# HeatMap\n",
    "df_num = df.select_dtypes(include=['int64', 'float64'])\n",
    "corr = df_num.corr()\n",
    "plt.figure(figsize=(21, 22))\n",
    "sns.heatmap(corr, annot=True, cmap='coolwarm')"
   ]
  },
  {
   "cell_type": "code",
   "execution_count": null,
   "metadata": {
    "collapsed": true,
    "execution": {
     "iopub.execute_input": "2025-10-23T23:51:48.787953Z",
     "iopub.status.busy": "2025-10-23T23:51:48.787639Z",
     "iopub.status.idle": "2025-10-23T23:51:54.010616Z",
     "shell.execute_reply": "2025-10-23T23:51:54.009433Z",
     "shell.execute_reply.started": "2025-10-23T23:51:48.787928Z"
    },
    "jupyter": {
     "outputs_hidden": true,
     "source_hidden": true
    }
   },
   "outputs": [],
   "source": [
    "#Visualisasi Hubungan GarageCars, GarageArea, dan SalePrice dalam Scatterplot Matrix.\n",
    "sns.pairplot(df[['GarageCars', 'GarageArea', 'SalePrice']], hue='SalePrice',palette=\"viridis\")\n",
    "plt.show()"
   ]
  },
  {
   "cell_type": "markdown",
   "metadata": {},
   "source": [
    "## Transformasi dan Scaling"
   ]
  },
  {
   "cell_type": "code",
   "execution_count": null,
   "metadata": {},
   "outputs": [],
   "source": [
    "#Log Transform SalePrice\n",
    "df['SalePrice'] = np.log1p(df['SalePrice'])\n",
    "\n",
    "#Ambil semua kolom numerik dan log yang skewed\n",
    "numeric_cols = df.select_dtypes(include = [np.number]).columns\n",
    "numeric_cols = numeric_cols.drop(['Id', 'SalePrice'])\n",
    "skewed_feats = df[numeric_cols].apply(lambda x: skew(x.dropna())).sort_values(ascending=False)\n",
    "print(\"Skewness fitur numerik:\")\n",
    "print(skewed_feats)\n",
    "skewness_threshold = 0.75\n",
    "highly_skewed_cols = skewed_feats[abs(skewed_feats) > skewness_threshold].index\n",
    "print(f\"Menerapkan log-transform ke {len(highly_skewed_cols)} fitur...\")\n",
    "for col in highly_skewed_cols:\n",
    "    df[col] = np.log1p(df[col])\n",
    "    dft[col] = np.log1p(dft[col])\n",
    "\n",
    "from sklearn.preprocessing import RobustScaler\n",
    "scaler = RobustScaler()\n",
    "df[numeric_cols] = scaler.fit_transform(df[numeric_cols])\n",
    "dft[numeric_cols] = scaler.transform(dft[numeric_cols])\n",
    "\n"
   ]
  }
 ],
 "metadata": {
  "kaggle": {
   "accelerator": "none",
   "dataSources": [
    {
     "datasetId": 8552246,
     "sourceId": 13472155,
     "sourceType": "datasetVersion"
    }
   ],
   "dockerImageVersionId": 31153,
   "isGpuEnabled": false,
   "isInternetEnabled": false,
   "language": "python",
   "sourceType": "notebook"
  },
  "kernelspec": {
   "display_name": "Python 3 (ipykernel)",
   "language": "python",
   "name": "python3"
  },
  "language_info": {
   "codemirror_mode": {
    "name": "ipython",
    "version": 3
   },
   "file_extension": ".py",
   "mimetype": "text/x-python",
   "name": "python",
   "nbconvert_exporter": "python",
   "pygments_lexer": "ipython3",
   "version": "3.13.7"
  }
 },
 "nbformat": 4,
 "nbformat_minor": 4
}
