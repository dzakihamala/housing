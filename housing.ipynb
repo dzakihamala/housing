{
 "cells": [
  {
   "cell_type": "markdown",
   "metadata": {},
   "source": [
    "## Import & Load Data"
   ]
  },
  {
   "cell_type": "code",
   "execution_count": null,
   "metadata": {
    "_cell_guid": "b1076dfc-b9ad-4769-8c92-a6c4dae69d19",
    "_uuid": "8f2839f25d086af736a60e9eeb907d3b93b6e0e5",
    "execution": {
     "iopub.execute_input": "2025-10-24T01:09:27.713853Z",
     "iopub.status.busy": "2025-10-24T01:09:27.713550Z",
     "iopub.status.idle": "2025-10-24T01:09:27.737210Z",
     "shell.execute_reply": "2025-10-24T01:09:27.735887Z",
     "shell.execute_reply.started": "2025-10-24T01:09:27.713829Z"
    },
    "trusted": true
   },
   "outputs": [],
   "source": [
    "import pandas as pd\n",
    "import seaborn as sns\n",
    "import matplotlib.pyplot as plt\n",
    "import numpy as np\n",
    "import warnings\n",
    "warnings.filterwarnings('ignore')\n",
    "from scipy.stats import skew\n",
    "\n",
    "df = pd.read_csv(\"train.csv\")\n",
    "dft = pd.read_csv(\"test.csv\")"
   ]
  },
  {
   "cell_type": "markdown",
   "metadata": {},
   "source": [
    "## EDA pre-Feature Engineering"
   ]
  },
  {
   "cell_type": "code",
   "execution_count": null,
   "metadata": {
    "collapsed": true,
    "execution": {
     "iopub.execute_input": "2025-10-24T00:17:32.808964Z",
     "iopub.status.busy": "2025-10-24T00:17:32.808669Z",
     "iopub.status.idle": "2025-10-24T00:17:32.973677Z",
     "shell.execute_reply": "2025-10-24T00:17:32.972711Z",
     "shell.execute_reply.started": "2025-10-24T00:17:32.808943Z"
    },
    "jupyter": {
     "outputs_hidden": true,
     "source_hidden": true
    },
    "trusted": true
   },
   "outputs": [],
   "source": [
    "#Pengaturan Tampilan Data\n",
    "pd.set_option('display.max_columns', None)"
   ]
  },
  {
   "cell_type": "code",
   "execution_count": 48,
   "metadata": {
    "jupyter": {
     "source_hidden": true
    },
    "trusted": true
   },
   "outputs": [
    {
     "name": "stdout",
     "output_type": "stream",
     "text": [
      "Empty DataFrame\n",
      "Columns: [MISSING, %]\n",
      "Index: []\n",
      "\n",
      "\n",
      "Kolom yang punya missing values: []\n",
      "              MISSING      %\n",
      "Utilities           2  0.14%\n",
      "BsmtFullBath        2  0.14%\n",
      "BsmtHalfBath        2  0.14%\n",
      "Functional          2  0.14%\n",
      "Exterior1st         1  0.07%\n",
      "Exterior2nd         1  0.07%\n",
      "BsmtFinSF1          1  0.07%\n",
      "BsmtFinSF2          1  0.07%\n",
      "BsmtUnfSF           1  0.07%\n",
      "TotalBsmtSF         1  0.07%\n",
      "KitchenQual         1  0.07%\n",
      "GarageCars          1  0.07%\n",
      "SaleType            1  0.07%\n",
      "\n",
      "\n",
      "Kolom yang punya missing values: ['Utilities', 'BsmtFullBath', 'BsmtHalfBath', 'Functional', 'Exterior1st', 'Exterior2nd', 'BsmtFinSF1', 'BsmtFinSF2', 'BsmtUnfSF', 'TotalBsmtSF', 'KitchenQual', 'GarageCars', 'SaleType']\n"
     ]
    }
   ],
   "source": [
    "#Cek Data yang Kosong\n",
    "def missing(df) :\n",
    "    missing = df.isnull().sum()\n",
    "    percent = (df.isnull().sum()/len(df))*100\n",
    "    missing_table = pd.DataFrame({\n",
    "        'MISSING':missing,\n",
    "        '%':percent\n",
    "    })\n",
    "    missing_table = missing_table[missing_table['MISSING'] > 0]\n",
    "    missing_table['%'] = missing_table['%'].apply(lambda x: f\"{x:.2f}%\")\n",
    "    missing_table = missing_table.sort_values(by='%', ascending=False)\n",
    "    print(missing_table.round(2))\n",
    "    print(\"\\n\")\n",
    "    cols_with_missing = missing_table.index.tolist()\n",
    "    print(\"Kolom yang punya missing values:\", cols_with_missing)\n",
    "missing(df)\n",
    "missing(dft)\n",
    "    \n"
   ]
  },
  {
   "cell_type": "code",
   "execution_count": 49,
   "metadata": {},
   "outputs": [
    {
     "data": {
      "application/vnd.microsoft.datawrangler.viewer.v0+json": {
       "columns": [
        {
         "name": "index",
         "rawType": "int64",
         "type": "integer"
        },
        {
         "name": "Id",
         "rawType": "int64",
         "type": "integer"
        },
        {
         "name": "MSSubClass",
         "rawType": "int64",
         "type": "integer"
        },
        {
         "name": "MSZoning",
         "rawType": "object",
         "type": "string"
        },
        {
         "name": "LotFrontage",
         "rawType": "float64",
         "type": "float"
        },
        {
         "name": "LotArea",
         "rawType": "int64",
         "type": "integer"
        },
        {
         "name": "Street",
         "rawType": "object",
         "type": "string"
        },
        {
         "name": "Alley",
         "rawType": "int64",
         "type": "integer"
        },
        {
         "name": "LotShape",
         "rawType": "int64",
         "type": "integer"
        },
        {
         "name": "LandContour",
         "rawType": "object",
         "type": "string"
        },
        {
         "name": "Utilities",
         "rawType": "float64",
         "type": "float"
        },
        {
         "name": "LotConfig",
         "rawType": "object",
         "type": "string"
        },
        {
         "name": "LandSlope",
         "rawType": "int64",
         "type": "integer"
        },
        {
         "name": "Neighborhood",
         "rawType": "object",
         "type": "string"
        },
        {
         "name": "Condition1",
         "rawType": "object",
         "type": "string"
        },
        {
         "name": "Condition2",
         "rawType": "object",
         "type": "string"
        },
        {
         "name": "BldgType",
         "rawType": "object",
         "type": "string"
        },
        {
         "name": "HouseStyle",
         "rawType": "object",
         "type": "string"
        },
        {
         "name": "OverallQual",
         "rawType": "int64",
         "type": "integer"
        },
        {
         "name": "OverallCond",
         "rawType": "int64",
         "type": "integer"
        },
        {
         "name": "YearBuilt",
         "rawType": "int64",
         "type": "integer"
        },
        {
         "name": "YearRemodAdd",
         "rawType": "int64",
         "type": "integer"
        },
        {
         "name": "RoofStyle",
         "rawType": "object",
         "type": "string"
        },
        {
         "name": "RoofMatl",
         "rawType": "object",
         "type": "string"
        },
        {
         "name": "Exterior1st",
         "rawType": "object",
         "type": "string"
        },
        {
         "name": "Exterior2nd",
         "rawType": "object",
         "type": "string"
        },
        {
         "name": "MasVnrType",
         "rawType": "object",
         "type": "string"
        },
        {
         "name": "MasVnrArea",
         "rawType": "float64",
         "type": "float"
        },
        {
         "name": "ExterQual",
         "rawType": "int64",
         "type": "integer"
        },
        {
         "name": "ExterCond",
         "rawType": "int64",
         "type": "integer"
        },
        {
         "name": "Foundation",
         "rawType": "object",
         "type": "string"
        },
        {
         "name": "BsmtQual",
         "rawType": "int64",
         "type": "integer"
        },
        {
         "name": "BsmtCond",
         "rawType": "int64",
         "type": "integer"
        },
        {
         "name": "BsmtExposure",
         "rawType": "int64",
         "type": "integer"
        },
        {
         "name": "BsmtFinType1",
         "rawType": "int64",
         "type": "integer"
        },
        {
         "name": "BsmtFinSF1",
         "rawType": "float64",
         "type": "float"
        },
        {
         "name": "BsmtFinType2",
         "rawType": "int64",
         "type": "integer"
        },
        {
         "name": "BsmtFinSF2",
         "rawType": "float64",
         "type": "float"
        },
        {
         "name": "BsmtUnfSF",
         "rawType": "float64",
         "type": "float"
        },
        {
         "name": "TotalBsmtSF",
         "rawType": "float64",
         "type": "float"
        },
        {
         "name": "Heating",
         "rawType": "object",
         "type": "string"
        },
        {
         "name": "HeatingQC",
         "rawType": "int64",
         "type": "integer"
        },
        {
         "name": "CentralAir",
         "rawType": "object",
         "type": "string"
        },
        {
         "name": "Electrical",
         "rawType": "object",
         "type": "string"
        },
        {
         "name": "1stFlrSF",
         "rawType": "int64",
         "type": "integer"
        },
        {
         "name": "2ndFlrSF",
         "rawType": "int64",
         "type": "integer"
        },
        {
         "name": "LowQualFinSF",
         "rawType": "int64",
         "type": "integer"
        },
        {
         "name": "GrLivArea",
         "rawType": "int64",
         "type": "integer"
        },
        {
         "name": "BsmtFullBath",
         "rawType": "float64",
         "type": "float"
        },
        {
         "name": "BsmtHalfBath",
         "rawType": "float64",
         "type": "float"
        },
        {
         "name": "FullBath",
         "rawType": "int64",
         "type": "integer"
        },
        {
         "name": "HalfBath",
         "rawType": "int64",
         "type": "integer"
        },
        {
         "name": "BedroomAbvGr",
         "rawType": "int64",
         "type": "integer"
        },
        {
         "name": "KitchenAbvGr",
         "rawType": "int64",
         "type": "integer"
        },
        {
         "name": "KitchenQual",
         "rawType": "float64",
         "type": "float"
        },
        {
         "name": "TotRmsAbvGrd",
         "rawType": "int64",
         "type": "integer"
        },
        {
         "name": "Functional",
         "rawType": "float64",
         "type": "float"
        },
        {
         "name": "Fireplaces",
         "rawType": "int64",
         "type": "integer"
        },
        {
         "name": "FireplaceQu",
         "rawType": "int64",
         "type": "integer"
        },
        {
         "name": "GarageType",
         "rawType": "object",
         "type": "string"
        },
        {
         "name": "GarageYrBlt",
         "rawType": "object",
         "type": "unknown"
        },
        {
         "name": "GarageFinish",
         "rawType": "int64",
         "type": "integer"
        },
        {
         "name": "GarageCars",
         "rawType": "float64",
         "type": "float"
        },
        {
         "name": "GarageArea",
         "rawType": "object",
         "type": "unknown"
        },
        {
         "name": "GarageQual",
         "rawType": "int64",
         "type": "integer"
        },
        {
         "name": "GarageCond",
         "rawType": "int64",
         "type": "integer"
        },
        {
         "name": "PavedDrive",
         "rawType": "int64",
         "type": "integer"
        },
        {
         "name": "WoodDeckSF",
         "rawType": "int64",
         "type": "integer"
        },
        {
         "name": "OpenPorchSF",
         "rawType": "int64",
         "type": "integer"
        },
        {
         "name": "EnclosedPorch",
         "rawType": "int64",
         "type": "integer"
        },
        {
         "name": "3SsnPorch",
         "rawType": "int64",
         "type": "integer"
        },
        {
         "name": "ScreenPorch",
         "rawType": "int64",
         "type": "integer"
        },
        {
         "name": "PoolArea",
         "rawType": "int64",
         "type": "integer"
        },
        {
         "name": "PoolQC",
         "rawType": "int64",
         "type": "integer"
        },
        {
         "name": "Fence",
         "rawType": "int64",
         "type": "integer"
        },
        {
         "name": "MiscFeature",
         "rawType": "object",
         "type": "string"
        },
        {
         "name": "MiscVal",
         "rawType": "int64",
         "type": "integer"
        },
        {
         "name": "MoSold",
         "rawType": "int64",
         "type": "integer"
        },
        {
         "name": "YrSold",
         "rawType": "int64",
         "type": "integer"
        },
        {
         "name": "SaleType",
         "rawType": "object",
         "type": "string"
        },
        {
         "name": "SaleCondition",
         "rawType": "object",
         "type": "string"
        }
       ],
       "ref": "b9cbb6d7-d0eb-4b45-a46e-c362ebe3d5c8",
       "rows": [
        [
         "455",
         "1916",
         "30",
         "RL",
         "109.0",
         "21780",
         "Grvl",
         "0",
         "3",
         "Lvl",
         null,
         "Inside",
         "2",
         "IDOTRR",
         "Norm",
         "Norm",
         "1Fam",
         "1Story",
         "2",
         "4",
         "1910",
         "1950",
         "Gable",
         "CompShg",
         "Wd Sdng",
         "Wd Sdng",
         "BrkFace",
         "0.0",
         "2",
         "2",
         "CBlock",
         "0",
         "0",
         "0",
         "0",
         "0.0",
         "0",
         "0.0",
         "0.0",
         "0.0",
         "GasA",
         "3",
         "N",
         "FuseA",
         "810",
         "0",
         "0",
         "810",
         "0.0",
         "0.0",
         "1",
         "0",
         "1",
         "1",
         "3.0",
         "4",
         "6.0",
         "0",
         "0",
         "Detchd",
         "1975.0",
         "1",
         "1.0",
         "280.0",
         "3",
         "3",
         "0",
         "119",
         "24",
         "0",
         "0",
         "0",
         "0",
         "0",
         "0",
         "None",
         "0",
         "3",
         "2009",
         "ConLD",
         "Normal"
        ],
        [
         "485",
         "1946",
         "20",
         "RL",
         "73.0",
         "31220",
         "Pave",
         "0",
         "2",
         "Bnk",
         null,
         "FR2",
         "2",
         "Gilbert",
         "Feedr",
         "Norm",
         "1Fam",
         "1Story",
         "6",
         "2",
         "1952",
         "1952",
         "Hip",
         "CompShg",
         "BrkFace",
         "BrkFace",
         "BrkFace",
         "0.0",
         "3",
         "3",
         "CBlock",
         "3",
         "3",
         "1",
         "1",
         "0.0",
         "1",
         "0.0",
         "1632.0",
         "1632.0",
         "GasA",
         "3",
         "Y",
         "FuseA",
         "1474",
         "0",
         "0",
         "1474",
         "0.0",
         "0.0",
         "1",
         "0",
         "3",
         "1",
         "3.0",
         "7",
         "5.0",
         "2",
         "4",
         "Attchd",
         "1952.0",
         "1",
         "2.0",
         "495.0",
         "3",
         "3",
         "2",
         "0",
         "0",
         "144",
         "0",
         "0",
         "0",
         "0",
         "0",
         "Shed",
         "750",
         "5",
         "2008",
         "WD",
         "Normal"
        ]
       ],
       "shape": {
        "columns": 80,
        "rows": 2
       }
      },
      "text/html": [
       "<div>\n",
       "<style scoped>\n",
       "    .dataframe tbody tr th:only-of-type {\n",
       "        vertical-align: middle;\n",
       "    }\n",
       "\n",
       "    .dataframe tbody tr th {\n",
       "        vertical-align: top;\n",
       "    }\n",
       "\n",
       "    .dataframe thead th {\n",
       "        text-align: right;\n",
       "    }\n",
       "</style>\n",
       "<table border=\"1\" class=\"dataframe\">\n",
       "  <thead>\n",
       "    <tr style=\"text-align: right;\">\n",
       "      <th></th>\n",
       "      <th>Id</th>\n",
       "      <th>MSSubClass</th>\n",
       "      <th>MSZoning</th>\n",
       "      <th>LotFrontage</th>\n",
       "      <th>LotArea</th>\n",
       "      <th>Street</th>\n",
       "      <th>Alley</th>\n",
       "      <th>LotShape</th>\n",
       "      <th>LandContour</th>\n",
       "      <th>Utilities</th>\n",
       "      <th>LotConfig</th>\n",
       "      <th>LandSlope</th>\n",
       "      <th>Neighborhood</th>\n",
       "      <th>Condition1</th>\n",
       "      <th>Condition2</th>\n",
       "      <th>BldgType</th>\n",
       "      <th>HouseStyle</th>\n",
       "      <th>OverallQual</th>\n",
       "      <th>OverallCond</th>\n",
       "      <th>YearBuilt</th>\n",
       "      <th>YearRemodAdd</th>\n",
       "      <th>RoofStyle</th>\n",
       "      <th>RoofMatl</th>\n",
       "      <th>Exterior1st</th>\n",
       "      <th>Exterior2nd</th>\n",
       "      <th>MasVnrType</th>\n",
       "      <th>MasVnrArea</th>\n",
       "      <th>ExterQual</th>\n",
       "      <th>ExterCond</th>\n",
       "      <th>Foundation</th>\n",
       "      <th>BsmtQual</th>\n",
       "      <th>BsmtCond</th>\n",
       "      <th>BsmtExposure</th>\n",
       "      <th>BsmtFinType1</th>\n",
       "      <th>BsmtFinSF1</th>\n",
       "      <th>BsmtFinType2</th>\n",
       "      <th>BsmtFinSF2</th>\n",
       "      <th>BsmtUnfSF</th>\n",
       "      <th>TotalBsmtSF</th>\n",
       "      <th>Heating</th>\n",
       "      <th>HeatingQC</th>\n",
       "      <th>CentralAir</th>\n",
       "      <th>Electrical</th>\n",
       "      <th>1stFlrSF</th>\n",
       "      <th>2ndFlrSF</th>\n",
       "      <th>LowQualFinSF</th>\n",
       "      <th>GrLivArea</th>\n",
       "      <th>BsmtFullBath</th>\n",
       "      <th>BsmtHalfBath</th>\n",
       "      <th>FullBath</th>\n",
       "      <th>HalfBath</th>\n",
       "      <th>BedroomAbvGr</th>\n",
       "      <th>KitchenAbvGr</th>\n",
       "      <th>KitchenQual</th>\n",
       "      <th>TotRmsAbvGrd</th>\n",
       "      <th>Functional</th>\n",
       "      <th>Fireplaces</th>\n",
       "      <th>FireplaceQu</th>\n",
       "      <th>GarageType</th>\n",
       "      <th>GarageYrBlt</th>\n",
       "      <th>GarageFinish</th>\n",
       "      <th>GarageCars</th>\n",
       "      <th>GarageArea</th>\n",
       "      <th>GarageQual</th>\n",
       "      <th>GarageCond</th>\n",
       "      <th>PavedDrive</th>\n",
       "      <th>WoodDeckSF</th>\n",
       "      <th>OpenPorchSF</th>\n",
       "      <th>EnclosedPorch</th>\n",
       "      <th>3SsnPorch</th>\n",
       "      <th>ScreenPorch</th>\n",
       "      <th>PoolArea</th>\n",
       "      <th>PoolQC</th>\n",
       "      <th>Fence</th>\n",
       "      <th>MiscFeature</th>\n",
       "      <th>MiscVal</th>\n",
       "      <th>MoSold</th>\n",
       "      <th>YrSold</th>\n",
       "      <th>SaleType</th>\n",
       "      <th>SaleCondition</th>\n",
       "    </tr>\n",
       "  </thead>\n",
       "  <tbody>\n",
       "    <tr>\n",
       "      <th>455</th>\n",
       "      <td>1916</td>\n",
       "      <td>30</td>\n",
       "      <td>RL</td>\n",
       "      <td>109.0</td>\n",
       "      <td>21780</td>\n",
       "      <td>Grvl</td>\n",
       "      <td>0</td>\n",
       "      <td>3</td>\n",
       "      <td>Lvl</td>\n",
       "      <td>NaN</td>\n",
       "      <td>Inside</td>\n",
       "      <td>2</td>\n",
       "      <td>IDOTRR</td>\n",
       "      <td>Norm</td>\n",
       "      <td>Norm</td>\n",
       "      <td>1Fam</td>\n",
       "      <td>1Story</td>\n",
       "      <td>2</td>\n",
       "      <td>4</td>\n",
       "      <td>1910</td>\n",
       "      <td>1950</td>\n",
       "      <td>Gable</td>\n",
       "      <td>CompShg</td>\n",
       "      <td>Wd Sdng</td>\n",
       "      <td>Wd Sdng</td>\n",
       "      <td>BrkFace</td>\n",
       "      <td>0.0</td>\n",
       "      <td>2</td>\n",
       "      <td>2</td>\n",
       "      <td>CBlock</td>\n",
       "      <td>0</td>\n",
       "      <td>0</td>\n",
       "      <td>0</td>\n",
       "      <td>0</td>\n",
       "      <td>0.0</td>\n",
       "      <td>0</td>\n",
       "      <td>0.0</td>\n",
       "      <td>0.0</td>\n",
       "      <td>0.0</td>\n",
       "      <td>GasA</td>\n",
       "      <td>3</td>\n",
       "      <td>N</td>\n",
       "      <td>FuseA</td>\n",
       "      <td>810</td>\n",
       "      <td>0</td>\n",
       "      <td>0</td>\n",
       "      <td>810</td>\n",
       "      <td>0.0</td>\n",
       "      <td>0.0</td>\n",
       "      <td>1</td>\n",
       "      <td>0</td>\n",
       "      <td>1</td>\n",
       "      <td>1</td>\n",
       "      <td>3.0</td>\n",
       "      <td>4</td>\n",
       "      <td>6.0</td>\n",
       "      <td>0</td>\n",
       "      <td>0</td>\n",
       "      <td>Detchd</td>\n",
       "      <td>1975.0</td>\n",
       "      <td>1</td>\n",
       "      <td>1.0</td>\n",
       "      <td>280.0</td>\n",
       "      <td>3</td>\n",
       "      <td>3</td>\n",
       "      <td>0</td>\n",
       "      <td>119</td>\n",
       "      <td>24</td>\n",
       "      <td>0</td>\n",
       "      <td>0</td>\n",
       "      <td>0</td>\n",
       "      <td>0</td>\n",
       "      <td>0</td>\n",
       "      <td>0</td>\n",
       "      <td>None</td>\n",
       "      <td>0</td>\n",
       "      <td>3</td>\n",
       "      <td>2009</td>\n",
       "      <td>ConLD</td>\n",
       "      <td>Normal</td>\n",
       "    </tr>\n",
       "    <tr>\n",
       "      <th>485</th>\n",
       "      <td>1946</td>\n",
       "      <td>20</td>\n",
       "      <td>RL</td>\n",
       "      <td>73.0</td>\n",
       "      <td>31220</td>\n",
       "      <td>Pave</td>\n",
       "      <td>0</td>\n",
       "      <td>2</td>\n",
       "      <td>Bnk</td>\n",
       "      <td>NaN</td>\n",
       "      <td>FR2</td>\n",
       "      <td>2</td>\n",
       "      <td>Gilbert</td>\n",
       "      <td>Feedr</td>\n",
       "      <td>Norm</td>\n",
       "      <td>1Fam</td>\n",
       "      <td>1Story</td>\n",
       "      <td>6</td>\n",
       "      <td>2</td>\n",
       "      <td>1952</td>\n",
       "      <td>1952</td>\n",
       "      <td>Hip</td>\n",
       "      <td>CompShg</td>\n",
       "      <td>BrkFace</td>\n",
       "      <td>BrkFace</td>\n",
       "      <td>BrkFace</td>\n",
       "      <td>0.0</td>\n",
       "      <td>3</td>\n",
       "      <td>3</td>\n",
       "      <td>CBlock</td>\n",
       "      <td>3</td>\n",
       "      <td>3</td>\n",
       "      <td>1</td>\n",
       "      <td>1</td>\n",
       "      <td>0.0</td>\n",
       "      <td>1</td>\n",
       "      <td>0.0</td>\n",
       "      <td>1632.0</td>\n",
       "      <td>1632.0</td>\n",
       "      <td>GasA</td>\n",
       "      <td>3</td>\n",
       "      <td>Y</td>\n",
       "      <td>FuseA</td>\n",
       "      <td>1474</td>\n",
       "      <td>0</td>\n",
       "      <td>0</td>\n",
       "      <td>1474</td>\n",
       "      <td>0.0</td>\n",
       "      <td>0.0</td>\n",
       "      <td>1</td>\n",
       "      <td>0</td>\n",
       "      <td>3</td>\n",
       "      <td>1</td>\n",
       "      <td>3.0</td>\n",
       "      <td>7</td>\n",
       "      <td>5.0</td>\n",
       "      <td>2</td>\n",
       "      <td>4</td>\n",
       "      <td>Attchd</td>\n",
       "      <td>1952.0</td>\n",
       "      <td>1</td>\n",
       "      <td>2.0</td>\n",
       "      <td>495.0</td>\n",
       "      <td>3</td>\n",
       "      <td>3</td>\n",
       "      <td>2</td>\n",
       "      <td>0</td>\n",
       "      <td>0</td>\n",
       "      <td>144</td>\n",
       "      <td>0</td>\n",
       "      <td>0</td>\n",
       "      <td>0</td>\n",
       "      <td>0</td>\n",
       "      <td>0</td>\n",
       "      <td>Shed</td>\n",
       "      <td>750</td>\n",
       "      <td>5</td>\n",
       "      <td>2008</td>\n",
       "      <td>WD</td>\n",
       "      <td>Normal</td>\n",
       "    </tr>\n",
       "  </tbody>\n",
       "</table>\n",
       "</div>"
      ],
      "text/plain": [
       "       Id  MSSubClass MSZoning  LotFrontage  LotArea Street  Alley  LotShape  \\\n",
       "455  1916          30       RL        109.0    21780   Grvl      0         3   \n",
       "485  1946          20       RL         73.0    31220   Pave      0         2   \n",
       "\n",
       "    LandContour  Utilities LotConfig  LandSlope Neighborhood Condition1  \\\n",
       "455         Lvl        NaN    Inside          2       IDOTRR       Norm   \n",
       "485         Bnk        NaN       FR2          2      Gilbert      Feedr   \n",
       "\n",
       "    Condition2 BldgType HouseStyle  OverallQual  OverallCond  YearBuilt  \\\n",
       "455       Norm     1Fam     1Story            2            4       1910   \n",
       "485       Norm     1Fam     1Story            6            2       1952   \n",
       "\n",
       "     YearRemodAdd RoofStyle RoofMatl Exterior1st Exterior2nd MasVnrType  \\\n",
       "455          1950     Gable  CompShg     Wd Sdng     Wd Sdng    BrkFace   \n",
       "485          1952       Hip  CompShg     BrkFace     BrkFace    BrkFace   \n",
       "\n",
       "     MasVnrArea  ExterQual  ExterCond Foundation  BsmtQual  BsmtCond  \\\n",
       "455         0.0          2          2     CBlock         0         0   \n",
       "485         0.0          3          3     CBlock         3         3   \n",
       "\n",
       "     BsmtExposure  BsmtFinType1  BsmtFinSF1  BsmtFinType2  BsmtFinSF2  \\\n",
       "455             0             0         0.0             0         0.0   \n",
       "485             1             1         0.0             1         0.0   \n",
       "\n",
       "     BsmtUnfSF  TotalBsmtSF Heating  HeatingQC CentralAir Electrical  \\\n",
       "455        0.0          0.0    GasA          3          N      FuseA   \n",
       "485     1632.0       1632.0    GasA          3          Y      FuseA   \n",
       "\n",
       "     1stFlrSF  2ndFlrSF  LowQualFinSF  GrLivArea  BsmtFullBath  BsmtHalfBath  \\\n",
       "455       810         0             0        810           0.0           0.0   \n",
       "485      1474         0             0       1474           0.0           0.0   \n",
       "\n",
       "     FullBath  HalfBath  BedroomAbvGr  KitchenAbvGr  KitchenQual  \\\n",
       "455         1         0             1             1          3.0   \n",
       "485         1         0             3             1          3.0   \n",
       "\n",
       "     TotRmsAbvGrd  Functional  Fireplaces  FireplaceQu GarageType GarageYrBlt  \\\n",
       "455             4         6.0           0            0     Detchd      1975.0   \n",
       "485             7         5.0           2            4     Attchd      1952.0   \n",
       "\n",
       "     GarageFinish  GarageCars GarageArea  GarageQual  GarageCond  PavedDrive  \\\n",
       "455             1         1.0      280.0           3           3           0   \n",
       "485             1         2.0      495.0           3           3           2   \n",
       "\n",
       "     WoodDeckSF  OpenPorchSF  EnclosedPorch  3SsnPorch  ScreenPorch  PoolArea  \\\n",
       "455         119           24              0          0            0         0   \n",
       "485           0            0            144          0            0         0   \n",
       "\n",
       "     PoolQC  Fence MiscFeature  MiscVal  MoSold  YrSold SaleType SaleCondition  \n",
       "455       0      0        None        0       3    2009    ConLD        Normal  \n",
       "485       0      0        Shed      750       5    2008       WD        Normal  "
      ]
     },
     "execution_count": 49,
     "metadata": {},
     "output_type": "execute_result"
    }
   ],
   "source": [
    "#control panel\n",
    "dft[dft['Utilities'].isnull()]"
   ]
  },
  {
   "cell_type": "code",
   "execution_count": null,
   "metadata": {
    "jupyter": {
     "source_hidden": true
    },
    "trusted": true
   },
   "outputs": [],
   "source": [
    "#Reset Pengaturan Tampilan Data\n",
    "pd.reset_option('display.max_rows')"
   ]
  },
  {
   "cell_type": "code",
   "execution_count": null,
   "metadata": {
    "jupyter": {
     "source_hidden": true
    },
    "trusted": true
   },
   "outputs": [],
   "source": [
    "#Visualisasi Outlier (LotFrontage, MasVnrArea)\n",
    "sns.boxplot(y='LotFrontage', data=df)\n",
    "plt.show()\n",
    "sns.boxplot(y='MasVnrArea', data=df)\n",
    "plt.show()"
   ]
  },
  {
   "cell_type": "code",
   "execution_count": null,
   "metadata": {},
   "outputs": [],
   "source": [
    "#Visualisasi Outlier (GrLivArea vs SalePrice)\n",
    "plt.figure(figsize=(10, 6))\n",
    "sns.scatterplot(x=df['GrLivArea'], y=df['SalePrice'])\n",
    "plt.xlabel('GrLivArea')\n",
    "plt.ylabel('SalePrice')\n",
    "plt.title('Deteksi Outlier GrLivArea vs SalePrice')\n",
    "plt.show()"
   ]
  },
  {
   "cell_type": "markdown",
   "metadata": {},
   "source": [
    "## Hapus Data Ga Guna dan Outlier"
   ]
  },
  {
   "cell_type": "code",
   "execution_count": null,
   "metadata": {},
   "outputs": [],
   "source": [
    "\n",
    "outlier_indices = df[(df['GrLivArea'] > 4000) & (df['SalePrice'] < 300000)].index\n",
    "print(f\"Dropping {len(outlier_indices)} outlier(s)...\")\n",
    "df = df.drop(outlier_indices)\n",
    "df = df.reset_index(drop=True)"
   ]
  },
  {
   "cell_type": "markdown",
   "metadata": {},
   "source": [
    "## Pengisian Data yang Kosong"
   ]
  },
  {
   "cell_type": "code",
   "execution_count": null,
   "metadata": {
    "execution": {
     "iopub.execute_input": "2025-10-24T01:09:53.008777Z",
     "iopub.status.busy": "2025-10-24T01:09:53.008488Z",
     "iopub.status.idle": "2025-10-24T01:09:53.036175Z",
     "shell.execute_reply": "2025-10-24T01:09:53.034901Z",
     "shell.execute_reply.started": "2025-10-24T01:09:53.008758Z"
    },
    "trusted": true
   },
   "outputs": [],
   "source": [
    "#isi dengan modus\n",
    "cols_fillna_modus = ['MasVnrType', 'Electrical', 'MSZoning']\n",
    "for col in cols_fillna_modus:\n",
    "    df[col].fillna(df[col].mode()[0], inplace=True)\n",
    "    dft[col].fillna(df[col].mode()[0], inplace=True)\n",
    "\n",
    "#isi dengan median\n",
    "median_masvnrarea = df['MasVnrArea'].median()\n",
    "df['MasVnrArea'] = df['MasVnrArea'].fillna(median_masvnrarea)\n",
    "dft['MasVnrArea'] = dft['MasVnrArea'].fillna(median_masvnrarea)\n",
    "\n",
    "#isi dengan none\n",
    "cols_fill_none = [\n",
    "    'PoolQC', 'GarageQual', 'GarageCond', 'GarageType',\n",
    "    'GarageFinish', 'BsmtCond', 'BsmtQual', 'BsmtExposure',\n",
    "    'BsmtFinType1', 'BsmtFinType2', 'MiscFeature', 'FireplaceQu'\n",
    "]\n",
    "df[cols_fill_none] = df[cols_fill_none].fillna('None')\n",
    "dft[cols_fill_none] = dft[cols_fill_none].fillna('None')\n",
    "\n",
    "#isi dengan 0\n",
    "cols_fill_0 = ['GarageYrBlt', 'GarageArea', 'PoolArea','MasVnrType', 'MasVnrArea', 'Utilities']\n",
    "df[cols_fill_0] = df[cols_fill_0].fillna('0')\n",
    "dft[cols_fill_0] = dft[cols_fill_0].fillna('0')\n",
    "\n",
    "#isi dengan median pergrup\n",
    "LotFrontage_median = df.groupby('Neighborhood')['LotFrontage'].median()\n",
    "df['LotFrontage'] = df['LotFrontage'].fillna(df['Neighborhood'].map(LotFrontage_median))\n",
    "dft['LotFrontage'] = dft['LotFrontage'].fillna(df['Neighborhood'].map(LotFrontage_median))\n",
    "\n",
    "\n"
   ]
  },
  {
   "cell_type": "markdown",
   "metadata": {},
   "source": [
    "## Encoding"
   ]
  },
  {
   "cell_type": "code",
   "execution_count": null,
   "metadata": {
    "execution": {
     "iopub.execute_input": "2025-10-24T01:13:25.454643Z",
     "iopub.status.busy": "2025-10-24T01:13:25.454342Z",
     "iopub.status.idle": "2025-10-24T01:13:25.485614Z",
     "shell.execute_reply": "2025-10-24T01:13:25.484271Z",
     "shell.execute_reply.started": "2025-10-24T01:13:25.454622Z"
    },
    "trusted": true
   },
   "outputs": [],
   "source": [
    "#Ordinal\n",
    "qual_cond_map = {\n",
    "    'Ex': 5,\n",
    "    'Gd': 4,\n",
    "    'TA': 3,\n",
    "    'Fa': 2,\n",
    "    'Po': 1,\n",
    "    'None': 0 \n",
    "}\n",
    "qual_cond_cols = [\n",
    "    'ExterQual', 'ExterCond', 'BsmtQual', 'BsmtCond', 'HeatingQC', \n",
    "    'KitchenQual', 'FireplaceQu', 'GarageQual', 'GarageCond', 'PoolQC'\n",
    "]\n",
    "for col in qual_cond_cols:\n",
    "    df[col] = df[col].map(qual_cond_map)\n",
    "    dft[col] = dft[col].map(qual_cond_map)\n",
    "\n",
    "bsmt_exp_map = {\n",
    "    'Gd': 4,\n",
    "    'Av': 3,\n",
    "    'Mn': 2,\n",
    "    'No': 1,\n",
    "    'None': 0\n",
    "}\n",
    "df['BsmtExposure'] = df['BsmtExposure'].map(bsmt_exp_map)\n",
    "dft['BsmtExposure'] = dft['BsmtExposure'].map(bsmt_exp_map)\n",
    "\n",
    "bsmt_fin_map = {\n",
    "    'GLQ': 6,\n",
    "    'ALQ': 5,\n",
    "    'BLQ': 4,\n",
    "    'Rec': 3,\n",
    "    'LwQ': 2,\n",
    "    'Unf': 1,\n",
    "    'None': 0\n",
    "}\n",
    "df['BsmtFinType1'] = df['BsmtFinType1'].map(bsmt_fin_map)\n",
    "dft['BsmtFinType1'] = dft['BsmtFinType1'].map(bsmt_fin_map)\n",
    "df['BsmtFinType2'] = df['BsmtFinType2'].map(bsmt_fin_map)\n",
    "dft['BsmtFinType2'] = dft['BsmtFinType2'].map(bsmt_fin_map)\n",
    "\n",
    "garage_fin_map = {\n",
    "    'Fin': 3,\n",
    "    'RFn': 2,\n",
    "    'Unf': 1,\n",
    "    'None': 0\n",
    "}\n",
    "df['GarageFinish'] = df['GarageFinish'].map(garage_fin_map)\n",
    "dft['GarageFinish'] = dft['GarageFinish'].map(garage_fin_map)\n",
    "\n",
    "lotshape_fin_map = {\n",
    "    'IR3' : 0,\n",
    "    'IR2' : 1,\n",
    "    'IR1' : 2,\n",
    "    'Reg' : 3\n",
    "}\n",
    "df['LotShape'] = df['LotShape'].map(lotshape_fin_map)\n",
    "dft['LotShape'] = dft['LotShape'].map(lotshape_fin_map)\n",
    "\n",
    "landslope_fin_map = {\n",
    "    'Gtl' : 2,\n",
    "    'Mod' : 1,\n",
    "    'Sev' : 0\n",
    "}\n",
    "df['LandSlope'] = df['LandSlope'].map(landslope_fin_map)\n",
    "dft['LandSlope'] = dft['LandSlope'].map(landslope_fin_map)\n",
    "\n",
    "utilities_map = {\n",
    "    'AllPub': 3,\n",
    "    'NoSewr': 2,\n",
    "    'NoSeWa': 1,\n",
    "    'ELO': 0\n",
    "}\n",
    "df['Utilities'] = df['Utilities'].map(utilities_map)\n",
    "dft['Utilities'] = dft['Utilities'].map(utilities_map)\n",
    "\n",
    "paveddrive_map = {\n",
    "    'Y': 2,\n",
    "    'P': 1,\n",
    "    'N': 0\n",
    "}\n",
    "df['PavedDrive'] = df['PavedDrive'].map(paveddrive_map)\n",
    "dft['PavedDrive'] = dft['PavedDrive'].map(paveddrive_map)\n",
    "\n",
    "functional_map = {\n",
    "    'Typ': 7,\n",
    "    'Min1': 6,\n",
    "    'Min2': 5,\n",
    "    'Mod': 4,\n",
    "    'Maj1': 3,\n",
    "    'Maj2': 2,\n",
    "    'Sev': 1, \n",
    "    'Sal': 0\n",
    "}\n",
    "df['Functional'] = df['Functional'].map(functional_map)\n",
    "dft['Functional'] = dft['Functional'].map(functional_map)\n",
    "\n",
    "fence_map = {\n",
    "    'GdPrv': 4,\n",
    "    'MnPrv': 3,\n",
    "    'GdWo': 2,\n",
    "    'MnWw': 1,\n",
    "    0: 0\n",
    "}\n",
    "df['Fence'] = df['Fence'].fillna(0)\n",
    "dft['Fence'] = dft['Fence'].fillna(0)\n",
    "df['Fence'] = df['Fence'].map(fence_map)\n",
    "dft['Fence'] = dft['Fence'].map(fence_map)\n",
    "\n",
    "alley_map = {\n",
    "    'Grvl': 1,\n",
    "    'Pave': 2,\n",
    "    0: 0\n",
    "}\n",
    "df['Alley'] = df['Alley'].fillna(0)\n",
    "dft['Alley'] = dft['Alley'].fillna(0)\n",
    "df['Alley'] = df['Alley'].map(alley_map)\n",
    "dft['Alley'] = dft['Alley'].map(alley_map)\n"
   ]
  },
  {
   "cell_type": "code",
   "execution_count": null,
   "metadata": {
    "execution": {
     "iopub.execute_input": "2025-10-24T01:10:00.403926Z",
     "iopub.status.busy": "2025-10-24T01:10:00.403602Z",
     "iopub.status.idle": "2025-10-24T01:10:00.433166Z",
     "shell.execute_reply": "2025-10-24T01:10:00.431939Z",
     "shell.execute_reply.started": "2025-10-24T01:10:00.403901Z"
    },
    "trusted": true
   },
   "outputs": [],
   "source": [
    "#Categorical\n",
    "nominal_cols = [\n",
    "    'MSZoning', 'Alley', 'Neighborhood', 'Condition1', 'Condition2',\n",
    "    'BldgType', 'HouseStyle', 'RoofStyle', 'RoofMatl', 'Exterior1st',\n",
    "    'Exterior2nd', 'MasVnrType', 'Foundation', 'Heating', 'CentralAir',\n",
    "    'Electrical', 'GarageType', 'MiscFeature', 'SaleType', 'SaleCondition'\n",
    "]\n",
    "df = pd.get_dummies(df, columns=nominal_cols)\n",
    "dft = pd.get_dummies(dft, columns=nominal_cols)"
   ]
  },
  {
   "cell_type": "markdown",
   "metadata": {},
   "source": [
    "## EDA"
   ]
  },
  {
   "cell_type": "code",
   "execution_count": null,
   "metadata": {
    "collapsed": true,
    "execution": {
     "iopub.execute_input": "2025-10-23T23:51:24.133366Z",
     "iopub.status.busy": "2025-10-23T23:51:24.132873Z",
     "iopub.status.idle": "2025-10-23T23:51:28.438820Z",
     "shell.execute_reply": "2025-10-23T23:51:28.437346Z",
     "shell.execute_reply.started": "2025-10-23T23:51:24.133338Z"
    },
    "jupyter": {
     "outputs_hidden": true,
     "source_hidden": true
    },
    "trusted": true
   },
   "outputs": [],
   "source": [
    "# HeatMap\n",
    "df_num = df.select_dtypes(include=['int64', 'float64'])\n",
    "corr = df_num.corr()\n",
    "plt.figure(figsize=(21, 22))\n",
    "sns.heatmap(corr, annot=True, cmap='coolwarm')"
   ]
  },
  {
   "cell_type": "code",
   "execution_count": null,
   "metadata": {
    "collapsed": true,
    "execution": {
     "iopub.execute_input": "2025-10-23T23:51:48.787953Z",
     "iopub.status.busy": "2025-10-23T23:51:48.787639Z",
     "iopub.status.idle": "2025-10-23T23:51:54.010616Z",
     "shell.execute_reply": "2025-10-23T23:51:54.009433Z",
     "shell.execute_reply.started": "2025-10-23T23:51:48.787928Z"
    },
    "jupyter": {
     "outputs_hidden": true,
     "source_hidden": true
    },
    "trusted": true
   },
   "outputs": [],
   "source": [
    "#Visualisasi Hubungan GarageCars, GarageArea, dan SalePrice dalam Scatterplot Matrix.\n",
    "sns.pairplot(df[['GarageCars', 'GarageArea', 'SalePrice']], hue='SalePrice',palette=\"viridis\")\n",
    "plt.show()"
   ]
  },
  {
   "cell_type": "markdown",
   "metadata": {},
   "source": [
    "## Transformasi dan Scaling"
   ]
  },
  {
   "cell_type": "code",
   "execution_count": null,
   "metadata": {},
   "outputs": [],
   "source": [
    "#Log Transform SalePrice\n",
    "df['SalePrice'] = np.log1p(df['SalePrice'])\n",
    "\n",
    "#Ambil semua kolom numerik dan log yang skewed\n",
    "numeric_cols = df.select_dtypes(include = [np.number]).columns\n",
    "numeric_cols = numeric_cols.drop(['Id', 'SalePrice'])\n",
    "skewed_feats = df[numeric_cols].apply(lambda x: skew(x.dropna())).sort_values(ascending=False)\n",
    "print(\"Skewness fitur numerik:\")\n",
    "print(skewed_feats)\n",
    "skewness_threshold = 0.75\n",
    "highly_skewed_cols = skewed_feats[abs(skewed_feats) > skewness_threshold].index\n",
    "print(f\"Menerapkan log-transform ke {len(highly_skewed_cols)} fitur...\")\n",
    "for col in highly_skewed_cols:\n",
    "    df[col] = np.log1p(df[col])\n",
    "    dft[col] = np.log1p(dft[col])\n",
    "\n",
    "from sklearn.preprocessing import RobustScaler\n",
    "scaler = RobustScaler()\n",
    "df[numeric_cols] = scaler.fit_transform(df[numeric_cols])\n",
    "dft[numeric_cols] = scaler.transform(dft[numeric_cols])\n",
    "\n"
   ]
  }
 ],
 "metadata": {
  "kaggle": {
   "accelerator": "none",
   "dataSources": [
    {
     "datasetId": 8552246,
     "sourceId": 13472155,
     "sourceType": "datasetVersion"
    }
   ],
   "dockerImageVersionId": 31153,
   "isGpuEnabled": false,
   "isInternetEnabled": false,
   "language": "python",
   "sourceType": "notebook"
  },
  "kernelspec": {
   "display_name": "base",
   "language": "python",
   "name": "python3"
  },
  "language_info": {
   "codemirror_mode": {
    "name": "ipython",
    "version": 3
   },
   "file_extension": ".py",
   "mimetype": "text/x-python",
   "name": "python",
   "nbconvert_exporter": "python",
   "pygments_lexer": "ipython3",
   "version": "3.13.5"
  }
 },
 "nbformat": 4,
 "nbformat_minor": 4
}
