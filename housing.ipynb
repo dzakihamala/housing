{
 "cells": [
  {
   "cell_type": "markdown",
   "metadata": {},
   "source": [
    "## Import & Load Data"
   ]
  },
  {
   "cell_type": "code",
   "execution_count": null,
   "metadata": {
    "_cell_guid": "b1076dfc-b9ad-4769-8c92-a6c4dae69d19",
    "_uuid": "8f2839f25d086af736a60e9eeb907d3b93b6e0e5",
    "execution": {
     "iopub.execute_input": "2025-10-24T01:09:27.713853Z",
     "iopub.status.busy": "2025-10-24T01:09:27.713550Z",
     "iopub.status.idle": "2025-10-24T01:09:27.737210Z",
     "shell.execute_reply": "2025-10-24T01:09:27.735887Z",
     "shell.execute_reply.started": "2025-10-24T01:09:27.713829Z"
    }
   },
   "outputs": [],
   "source": [
    "#halooooooooooo\n",
    "\n",
    "import pandas as pd\n",
    "import seaborn as sns\n",
    "import matplotlib.pyplot as plt\n",
    "import numpy as np\n",
    "import warnings\n",
    "warnings.filterwarnings('ignore')\n",
    "from scipy.stats import skew\n",
    "\n",
    "df = pd.read_csv(\"train.csv\")\n",
    "dft = pd.read_csv(\"test.csv\")"
   ]
  },
  {
   "cell_type": "markdown",
   "metadata": {},
   "source": [
    "## EDA pre-Feature Engineering"
   ]
  },
  {
   "cell_type": "code",
   "execution_count": null,
   "metadata": {
    "execution": {
     "iopub.execute_input": "2025-10-24T00:17:32.808964Z",
     "iopub.status.busy": "2025-10-24T00:17:32.808669Z",
     "iopub.status.idle": "2025-10-24T00:17:32.973677Z",
     "shell.execute_reply": "2025-10-24T00:17:32.972711Z",
     "shell.execute_reply.started": "2025-10-24T00:17:32.808943Z"
    },
    "jupyter": {
     "source_hidden": true
    }
   },
   "outputs": [],
   "source": [
    "#Pengaturan Tampilan Data\n",
    "pd.set_option('display.max_columns', None)"
   ]
  },
  {
   "cell_type": "code",
   "execution_count": null,
   "metadata": {
    "jupyter": {
     "source_hidden": true
    }
   },
   "outputs": [],
   "source": [
    "#Cek Data yang Kosong\n",
    "def missing(df) :\n",
    "    missing = df.isnull().sum()\n",
    "    percent = (df.isnull().sum()/len(df))*100\n",
    "    missing_table = pd.DataFrame({\n",
    "        'MISSING':missing,\n",
    "        '%':percent\n",
    "    })\n",
    "    missing_table = missing_table[missing_table['MISSING'] > 0]\n",
    "    missing_table['%'] = missing_table['%'].apply(lambda x: f\"{x:.2f}%\")\n",
    "    missing_table = missing_table.sort_values(by='%', ascending=False)\n",
    "    print(missing_table.round(2))\n",
    "    print(\"\\n\")\n",
    "    cols_with_missing = missing_table.index.tolist()\n",
    "    print(\"Kolom yang punya missing values:\", cols_with_missing)\n",
    "missing(df)\n",
    "missing(dft)\n"
   ]
  },
  {
   "cell_type": "code",
   "execution_count": null,
   "metadata": {
    "jupyter": {
     "source_hidden": true
    }
   },
   "outputs": [],
   "source": [
    "#Reset Pengaturan Tampilan Data\n",
    "pd.reset_option('display.max_rows')"
   ]
  },
  {
   "cell_type": "code",
   "execution_count": null,
   "metadata": {
    "jupyter": {
     "source_hidden": true
    }
   },
   "outputs": [],
   "source": [
    "#Visualisasi Outlier (LotFrontage, MasVnrArea)\n",
    "sns.boxplot(y='LotFrontage', data=df)\n",
    "plt.show()\n",
    "sns.boxplot(y='MasVnrArea', data=df)\n",
    "plt.show()"
   ]
  },
  {
   "cell_type": "code",
   "execution_count": null,
   "metadata": {},
   "outputs": [],
   "source": [
    "#Visualisasi Outlier (GrLivArea vs SalePrice)\n",
    "plt.figure(figsize=(10, 6))\n",
    "sns.scatterplot(x=df['GrLivArea'], y=df['SalePrice'])\n",
    "plt.xlabel('GrLivArea')\n",
    "plt.ylabel('SalePrice')\n",
    "plt.title('Deteksi Outlier GrLivArea vs SalePrice')\n",
    "plt.show()"
   ]
  },
  {
   "cell_type": "markdown",
   "metadata": {},
   "source": [
    "## Hapus Outlier"
   ]
  },
  {
   "cell_type": "code",
   "execution_count": null,
   "metadata": {},
   "outputs": [],
   "source": [
    "\n",
    "outlier_indices = df[(df['GrLivArea'] > 4000) & (df['SalePrice'] < 300000)].index\n",
    "print(f\"Dropping {len(outlier_indices)} outlier(s)...\")\n",
    "df = df.drop(outlier_indices)\n",
    "df = df.reset_index(drop=True)"
   ]
  },
  {
   "cell_type": "markdown",
   "metadata": {},
   "source": [
    "## Pengisian Data yang Kosong"
   ]
  },
  {
   "cell_type": "code",
   "execution_count": null,
   "metadata": {
    "execution": {
     "iopub.execute_input": "2025-10-24T01:09:53.008777Z",
     "iopub.status.busy": "2025-10-24T01:09:53.008488Z",
     "iopub.status.idle": "2025-10-24T01:09:53.036175Z",
     "shell.execute_reply": "2025-10-24T01:09:53.034901Z",
     "shell.execute_reply.started": "2025-10-24T01:09:53.008758Z"
    }
   },
   "outputs": [],
   "source": [
    "#isi dengan modus\n",
    "cols_fillna_modus = ['MasVnrType', 'Electrical', 'MSZoning']\n",
    "for col in cols_fillna_modus:\n",
    "    df[col].fillna(df[col].mode()[0], inplace=True)\n",
    "    dft[col].fillna(df[col].mode()[0], inplace=True)\n",
    "\n",
    "#isi dengan median\n",
    "median_masvnrarea = df['MasVnrArea'].median()\n",
    "df['MasVnrArea'] = df['MasVnrArea'].fillna(median_masvnrarea)\n",
    "dft['MasVnrArea'] = dft['MasVnrArea'].fillna(median_masvnrarea)\n",
    "\n",
    "#isi dengan none\n",
    "cols_fill_none = [\n",
    "    'PoolQC', 'GarageQual', 'GarageCond', 'GarageType',\n",
    "    'GarageFinish', 'BsmtCond', 'BsmtQual', 'BsmtExposure',\n",
    "    'BsmtFinType1', 'BsmtFinType2', 'MiscFeature', 'FireplaceQu'\n",
    "]\n",
    "df[cols_fill_none] = df[cols_fill_none].fillna('None')\n",
    "dft[cols_fill_none] = dft[cols_fill_none].fillna('None')\n",
    "\n",
    "#isi dengan 0\n",
    "cols_fill_0 = ['GarageYrBlt', 'GarageArea', 'PoolArea','MasVnrType', 'MasVnrArea', 'Utilities']\n",
    "df[cols_fill_0] = df[cols_fill_0].fillna('0')\n",
    "dft[cols_fill_0] = dft[cols_fill_0].fillna('0')\n",
    "\n",
    "#isi dengan median pergrup\n",
    "LotFrontage_median = df.groupby('Neighborhood')['LotFrontage'].median()\n",
    "df['LotFrontage'] = df['LotFrontage'].fillna(df['Neighborhood'].map(LotFrontage_median))\n",
    "dft['LotFrontage'] = dft['LotFrontage'].fillna(df['Neighborhood'].map(LotFrontage_median))\n",
    "\n",
    "\n"
   ]
  },
  {
   "cell_type": "markdown",
   "metadata": {},
   "source": [
    "## Encoding"
   ]
  },
  {
   "cell_type": "code",
   "execution_count": null,
   "metadata": {
    "execution": {
     "iopub.execute_input": "2025-10-24T01:13:25.454643Z",
     "iopub.status.busy": "2025-10-24T01:13:25.454342Z",
     "iopub.status.idle": "2025-10-24T01:13:25.485614Z",
     "shell.execute_reply": "2025-10-24T01:13:25.484271Z",
     "shell.execute_reply.started": "2025-10-24T01:13:25.454622Z"
    }
   },
   "outputs": [],
   "source": [
    "#Ordinal\n",
    "qual_cond_map = {\n",
    "    'Ex': 5,\n",
    "    'Gd': 4,\n",
    "    'TA': 3,\n",
    "    'Fa': 2,\n",
    "    'Po': 1,\n",
    "    'None': 0 \n",
    "}\n",
    "qual_cond_cols = [\n",
    "    'ExterQual', 'ExterCond', 'BsmtQual', 'BsmtCond', 'HeatingQC', \n",
    "    'KitchenQual', 'FireplaceQu', 'GarageQual', 'GarageCond', 'PoolQC'\n",
    "]\n",
    "for col in qual_cond_cols:\n",
    "    df[col] = df[col].map(qual_cond_map)\n",
    "    dft[col] = dft[col].map(qual_cond_map)\n",
    "\n",
    "bsmt_exp_map = {\n",
    "    'Gd': 4,\n",
    "    'Av': 3,\n",
    "    'Mn': 2,\n",
    "    'No': 1,\n",
    "    'None': 0\n",
    "}\n",
    "df['BsmtExposure'] = df['BsmtExposure'].map(bsmt_exp_map)\n",
    "dft['BsmtExposure'] = dft['BsmtExposure'].map(bsmt_exp_map)\n",
    "\n",
    "bsmt_fin_map = {\n",
    "    'GLQ': 6,\n",
    "    'ALQ': 5,\n",
    "    'BLQ': 4,\n",
    "    'Rec': 3,\n",
    "    'LwQ': 2,\n",
    "    'Unf': 1,\n",
    "    'None': 0\n",
    "}\n",
    "df['BsmtFinType1'] = df['BsmtFinType1'].map(bsmt_fin_map)\n",
    "dft['BsmtFinType1'] = dft['BsmtFinType1'].map(bsmt_fin_map)\n",
    "df['BsmtFinType2'] = df['BsmtFinType2'].map(bsmt_fin_map)\n",
    "dft['BsmtFinType2'] = dft['BsmtFinType2'].map(bsmt_fin_map)\n",
    "\n",
    "garage_fin_map = {\n",
    "    'Fin': 3,\n",
    "    'RFn': 2,\n",
    "    'Unf': 1,\n",
    "    'None': 0\n",
    "}\n",
    "df['GarageFinish'] = df['GarageFinish'].map(garage_fin_map)\n",
    "dft['GarageFinish'] = dft['GarageFinish'].map(garage_fin_map)\n",
    "\n",
    "lotshape_fin_map = {\n",
    "    'IR3' : 0,\n",
    "    'IR2' : 1,\n",
    "    'IR1' : 2,\n",
    "    'Reg' : 3\n",
    "}\n",
    "df['LotShape'] = df['LotShape'].map(lotshape_fin_map)\n",
    "dft['LotShape'] = dft['LotShape'].map(lotshape_fin_map)\n",
    "\n",
    "landslope_fin_map = {\n",
    "    'Gtl' : 2,\n",
    "    'Mod' : 1,\n",
    "    'Sev' : 0\n",
    "}\n",
    "df['LandSlope'] = df['LandSlope'].map(landslope_fin_map)\n",
    "dft['LandSlope'] = dft['LandSlope'].map(landslope_fin_map)\n",
    "\n",
    "utilities_map = {\n",
    "    'AllPub': 3,\n",
    "    'NoSewr': 2,\n",
    "    'NoSeWa': 1,\n",
    "    'ELO': 0\n",
    "}\n",
    "df['Utilities'] = df['Utilities'].map(utilities_map)\n",
    "dft['Utilities'] = dft['Utilities'].map(utilities_map)\n",
    "\n",
    "paveddrive_map = {\n",
    "    'Y': 2,\n",
    "    'P': 1,\n",
    "    'N': 0\n",
    "}\n",
    "df['PavedDrive'] = df['PavedDrive'].map(paveddrive_map)\n",
    "dft['PavedDrive'] = dft['PavedDrive'].map(paveddrive_map)\n",
    "\n",
    "functional_map = {\n",
    "    'Typ': 7,\n",
    "    'Min1': 6,\n",
    "    'Min2': 5,\n",
    "    'Mod': 4,\n",
    "    'Maj1': 3,\n",
    "    'Maj2': 2,\n",
    "    'Sev': 1, \n",
    "    'Sal': 0\n",
    "}\n",
    "df['Functional'] = df['Functional'].map(functional_map)\n",
    "dft['Functional'] = dft['Functional'].map(functional_map)\n",
    "\n",
    "fence_map = {\n",
    "    'GdPrv': 4,\n",
    "    'MnPrv': 3,\n",
    "    'GdWo': 2,\n",
    "    'MnWw': 1,\n",
    "    0: 0\n",
    "}\n",
    "df['Fence'] = df['Fence'].fillna(0)\n",
    "dft['Fence'] = dft['Fence'].fillna(0)\n",
    "df['Fence'] = df['Fence'].map(fence_map)\n",
    "dft['Fence'] = dft['Fence'].map(fence_map)\n",
    "\n",
    "alley_map = {\n",
    "    'Grvl': 1,\n",
    "    'Pave': 2,\n",
    "    0: 0\n",
    "}\n",
    "df['Alley'] = df['Alley'].fillna(0)\n",
    "dft['Alley'] = dft['Alley'].fillna(0)\n",
    "df['Alley'] = df['Alley'].map(alley_map)\n",
    "dft['Alley'] = dft['Alley'].map(alley_map)\n"
   ]
  },
  {
   "cell_type": "code",
   "execution_count": null,
   "metadata": {
    "execution": {
     "iopub.execute_input": "2025-10-24T01:10:00.403926Z",
     "iopub.status.busy": "2025-10-24T01:10:00.403602Z",
     "iopub.status.idle": "2025-10-24T01:10:00.433166Z",
     "shell.execute_reply": "2025-10-24T01:10:00.431939Z",
     "shell.execute_reply.started": "2025-10-24T01:10:00.403901Z"
    }
   },
   "outputs": [],
   "source": [
    "#Categorical\n",
    "nominal_cols = [\n",
    "    'MSZoning', 'Alley', 'Neighborhood', 'Condition1', 'Condition2',\n",
    "    'BldgType', 'HouseStyle', 'RoofStyle', 'RoofMatl', 'Exterior1st',\n",
    "    'Exterior2nd', 'MasVnrType', 'Foundation', 'Heating', 'CentralAir',\n",
    "    'Electrical', 'GarageType', 'MiscFeature', 'SaleType', 'SaleCondition'\n",
    "]\n",
    "df = pd.get_dummies(df, columns=nominal_cols)\n",
    "dft = pd.get_dummies(dft, columns=nominal_cols)"
   ]
  },
  {
   "cell_type": "markdown",
   "metadata": {},
   "source": [
    "## EDA"
   ]
  },
  {
   "cell_type": "code",
   "execution_count": null,
   "metadata": {
    "collapsed": true,
    "execution": {
     "iopub.execute_input": "2025-10-23T23:51:24.133366Z",
     "iopub.status.busy": "2025-10-23T23:51:24.132873Z",
     "iopub.status.idle": "2025-10-23T23:51:28.438820Z",
     "shell.execute_reply": "2025-10-23T23:51:28.437346Z",
     "shell.execute_reply.started": "2025-10-23T23:51:24.133338Z"
    },
    "jupyter": {
     "outputs_hidden": true,
     "source_hidden": true
    }
   },
   "outputs": [],
   "source": [
    "# HeatMap\n",
    "df_num = df.select_dtypes(include=['int64', 'float64'])\n",
    "corr = df_num.corr()\n",
    "plt.figure(figsize=(21, 22))\n",
    "sns.heatmap(corr, annot=True, cmap='coolwarm')"
   ]
  },
  {
   "cell_type": "code",
   "execution_count": null,
   "metadata": {
    "collapsed": true,
    "execution": {
     "iopub.execute_input": "2025-10-23T23:51:48.787953Z",
     "iopub.status.busy": "2025-10-23T23:51:48.787639Z",
     "iopub.status.idle": "2025-10-23T23:51:54.010616Z",
     "shell.execute_reply": "2025-10-23T23:51:54.009433Z",
     "shell.execute_reply.started": "2025-10-23T23:51:48.787928Z"
    },
    "jupyter": {
     "outputs_hidden": true,
     "source_hidden": true
    }
   },
   "outputs": [],
   "source": [
    "#Visualisasi Hubungan GarageCars, GarageArea, dan SalePrice dalam Scatterplot Matrix.\n",
    "sns.pairplot(df[['GarageCars', 'GarageArea', 'SalePrice']], hue='SalePrice',palette=\"viridis\")\n",
    "plt.show()"
   ]
  },
  {
   "cell_type": "markdown",
   "metadata": {},
   "source": [
    "## Transformasi dan Scaling"
   ]
  },
  {
   "cell_type": "code",
   "execution_count": null,
   "metadata": {},
   "outputs": [],
   "source": [
    "#Log Transform SalePrice\n",
    "df['SalePrice'] = np.log1p(df['SalePrice'])\n",
    "\n",
    "#Ambil semua kolom numerik dan log yang skewed\n",
    "numeric_cols = df.select_dtypes(include = [np.number]).columns\n",
    "numeric_cols = numeric_cols.drop(['Id', 'SalePrice'])\n",
    "skewed_feats = df[numeric_cols].apply(lambda x: skew(x.dropna())).sort_values(ascending=False)\n",
    "print(\"Skewness fitur numerik:\")\n",
    "print(skewed_feats)\n",
    "skewness_threshold = 0.75\n",
    "highly_skewed_cols = skewed_feats[abs(skewed_feats) > skewness_threshold].index\n",
    "print(f\"Menerapkan log-transform ke {len(highly_skewed_cols)} fitur...\")\n",
    "for col in highly_skewed_cols:\n",
    "    df[col] = np.log1p(df[col])\n",
    "    dft[col] = np.log1p(dft[col])\n",
    "\n",
    "from sklearn.preprocessing import RobustScaler\n",
    "scaler = RobustScaler()\n",
    "df[numeric_cols] = scaler.fit_transform(df[numeric_cols])\n",
    "dft[numeric_cols] = scaler.transform(dft[numeric_cols])\n",
    "\n"
   ]
  }
 ],
 "metadata": {
  "kaggle": {
   "accelerator": "none",
   "dataSources": [
    {
     "datasetId": 8552246,
     "sourceId": 13472155,
     "sourceType": "datasetVersion"
    }
   ],
   "dockerImageVersionId": 31153,
   "isGpuEnabled": false,
   "isInternetEnabled": false,
   "language": "python",
   "sourceType": "notebook"
  },
  "kernelspec": {
   "display_name": "Python 3 (ipykernel)",
   "language": "python",
   "name": "python3"
  },
  "language_info": {
   "codemirror_mode": {
    "name": "ipython",
    "version": 3
   },
   "file_extension": ".py",
   "mimetype": "text/x-python",
   "name": "python",
   "nbconvert_exporter": "python",
   "pygments_lexer": "ipython3",
   "version": "3.13.7"
  }
 },
 "nbformat": 4,
 "nbformat_minor": 4
}
